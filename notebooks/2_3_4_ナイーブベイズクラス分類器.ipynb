{
 "cells": [
  {
   "cell_type": "markdown",
   "metadata": {},
   "source": [
    "#### 2.3.4 ナイーブベイズクラス分類器"
   ]
  },
  {
   "cell_type": "markdown",
   "metadata": {},
   "source": [
    "|ナイーブベイズクラス分類器|\n",
    "|:-|"
   ]
  },
  {
   "cell_type": "markdown",
   "metadata": {},
   "source": [
    "ナイーブベイズクラス分類器は、前節で述べた線形モデルによく似たクラス分類器の一族だ。訓練が線形モデルよりもさらに高速なのが特徴だ。この速度の代償として、ナイーブベイズモデルの汎化性能は、LogisticRegressionやLinearSVCよりもわずかに劣る場合が多い。"
   ]
  },
  {
   "cell_type": "markdown",
   "metadata": {},
   "source": [
    "ナイーブベイズがこれほどに高速なのは、クラスに対する統計値を個々の特徴量ごとに集めて、パラメータを学習するからである。scikit-learnには３種のナイーブベイズクラス分類器、GaussianNB、BernoulliNB、MultinomialNBが実装されている。GaussianNBは任意の連続値データに適用できるが、BernoulliNBは２値データを仮定しており、MultinomiaNMはカウントデータを仮定している、カウントデータとは、例えば文中に出てくる単語の出現数などの、個々の特徴量が何らかの整数カウントを表現しているデータである。BernoulliNBやMultinomiaNMはほとんどの場合データのクラス分類に用いられる。"
   ]
  },
  {
   "cell_type": "markdown",
   "metadata": {},
   "source": [
    "BernoulliNBクラス分類器は個々のクラスに対して、特徴量ごとに非ゼロである場合をカウントする。これは例を見れば理解しやすい。"
   ]
  },
  {
   "cell_type": "code",
   "execution_count": 5,
   "metadata": {},
   "outputs": [],
   "source": [
    "import numpy as np\n",
    "import matplotlib.pyplot as plt\n",
    "import pandas as pd\n",
    "import mglearn\n",
    "from IPython.display import display"
   ]
  },
  {
   "cell_type": "code",
   "execution_count": 6,
   "metadata": {},
   "outputs": [],
   "source": [
    "x = np.array([[0, 1, 0, 1],\n",
    "             [1, 0, 1, 1],\n",
    "             [0, 0, 0, 1],\n",
    "             [1, 0, 1, 0]])\n",
    "y = np.array([0, 1, 0, 1])"
   ]
  },
  {
   "cell_type": "markdown",
   "metadata": {},
   "source": [
    "それぞれ４つの２値特徴量を持つ４つのデータポイントがある。２つのクラス０と１がある。クラス０のデータポイント（最初のと３番目）に対して最初の特徴量はゼロが２回非ゼロが０回出てくる。２番目の特徴量はゼロが１回、非ゼロが１回である二番目のクラスに対しても同様に計算すr。クラスごとに非ゼロの要素をカウントするには下に示すようにすればよい。"
   ]
  },
  {
   "cell_type": "code",
   "execution_count": 7,
   "metadata": {},
   "outputs": [
    {
     "name": "stdout",
     "output_type": "stream",
     "text": [
      "Feature counts:\n",
      "{0: array([0, 1, 0, 2]), 1: array([2, 0, 2, 1])}\n"
     ]
    }
   ],
   "source": [
    "counts = {}\n",
    "for label in np.unique(y):\n",
    "    counts[label] = x[y == label].sum(axis=0)\n",
    "print(\"Feature counts:\\n{}\".format(counts))"
   ]
  },
  {
   "cell_type": "code",
   "execution_count": 8,
   "metadata": {},
   "outputs": [
    {
     "name": "stdout",
     "output_type": "stream",
     "text": [
      "[0 1]\n"
     ]
    }
   ],
   "source": [
    "print(np.unique(y))"
   ]
  },
  {
   "cell_type": "markdown",
   "metadata": {},
   "source": [
    "クラス0に属するサンプル（y == 0）は xの1行目と3行目であり、これらの行の特徴量を合計すると [0, 1, 0, 2] になる。同様に、クラス1に属するサンプル（y == 1）は xの2行目と4行目であり、これらの行の特徴量を合計すると [2, 0, 2, 1] になる。"
   ]
  },
  {
   "cell_type": "markdown",
   "metadata": {},
   "source": [
    "残り２つのナイーブベイズモデル、MultinomialNBとGaussianNBは、計算する統計量が若干異なる。MultinomialNBではクラスごとの、個々の統計量の平均値を考慮に入れる。GaussianNBでは平均値だけでなく標準偏差も格納する。"
   ]
  },
  {
   "cell_type": "markdown",
   "metadata": {},
   "source": [
    "予測の際には、個々のクラスの統計量とデータポイントが比較され、最もよく適合したクラスが採用される。面白いことにMultinomialNBやBernoulliNBでは、線形モデルの場合と同じ形の予測式になる（**[2.3.3.5 クラス分類のための線形モデル]**を参照）。残念ながら、ナイーブベイズモデルのcoef_は、線形モデルの場合と若干意味が異なる。ナイーブベイズのcoef_は$w$と同じではない。"
   ]
  },
  {
   "cell_type": "markdown",
   "metadata": {},
   "source": [
    "MultinomialNBとBernoulliNBにはパラメータが１つだけある。モデルの複雑さを制御するalphaである。パラメータalphaの働きは以下のようになる。アルゴリズムは、すべての特徴量に対して正の値を持つか想定なデータポイントがalphaの大きさに応じた量だけ追加されたかのように振る舞う。alphaが大きくなるとスムーズになり、モデルの複雑さは減少する。アルゴリズムの性能はalphaの値に対して比較的頑健である。つまり、alphaの値がアルゴリズムの性能に致命的な違いをもたらすことはない、しかし、多くの場合この値を調整すること、いくらか精度を上げることができる。"
   ]
  },
  {
   "cell_type": "markdown",
   "metadata": {},
   "source": [
    "GaussianNBは多くの場合、高次元データに対して用いられるが、他の２つはテキストのような疎なカウントデータに対して用いられる。一般にMultinomialNBのほうがBernoulliNBよりも若干性能が良いが、特に比較的多数の非ゼロ特徴量がある場合（大きなドキュメントなど）には、MultinomialNBが有効である。"
   ]
  },
  {
   "cell_type": "markdown",
   "metadata": {},
   "source": [
    "ナイーブベイズモデルの利点と欠点の多くは線形モデルと共通する。訓練も非常に高速で、訓練の過程も理解しやすい。高次元の疎なデータに対してもうまく機能するし、パラメータの設定に対しても比較的頑健である。ナイーブベイズモデルは、線形モデルですら時間がかかりすぎるような大規模なデータセットに対するベースラインモデルとして非常に有用である。"
   ]
  }
 ],
 "metadata": {
  "kernelspec": {
   "display_name": "machine_learning_oreilly",
   "language": "python",
   "name": "python3"
  },
  "language_info": {
   "codemirror_mode": {
    "name": "ipython",
    "version": 3
   },
   "file_extension": ".py",
   "mimetype": "text/x-python",
   "name": "python",
   "nbconvert_exporter": "python",
   "pygments_lexer": "ipython3",
   "version": "3.12.5"
  }
 },
 "nbformat": 4,
 "nbformat_minor": 2
}
